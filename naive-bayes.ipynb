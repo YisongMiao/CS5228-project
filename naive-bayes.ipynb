{
 "cells": [
  {
   "cell_type": "code",
   "execution_count": 1,
   "metadata": {},
   "outputs": [],
   "source": [
    "from collections import Counter\n",
    "\n",
    "import pandas as pd\n",
    "import regex as re\n",
    "import numpy as np\n",
    "from itertools import chain\n",
    "from sklearn.naive_bayes import MultinomialNB\n",
    "from sklearn.feature_extraction.text import CountVectorizer\n"
   ]
  },
  {
   "cell_type": "code",
   "execution_count": 2,
   "metadata": {},
   "outputs": [
    {
     "name": "stdout",
     "output_type": "stream",
     "text": [
      "(6027, 10) (3826, 9)\n"
     ]
    }
   ],
   "source": [
    "# I use NLP technique to try some data cleaning before,\n",
    "# But the result doesn't improve. So now I'm reusing raw title\n",
    "# with sklearn's default tokenizer\n",
    "\n",
    "train_dataframe = pd.read_pickle('data/train-df-clean-v1.pickle')\n",
    "test_dataframe = pd.read_pickle('data/test-df-clean-v1.pickle')\n",
    "\n",
    "print(train_dataframe.shape, test_dataframe.shape)"
   ]
  },
  {
   "cell_type": "code",
   "execution_count": 3,
   "metadata": {},
   "outputs": [
    {
     "name": "stdout",
     "output_type": "stream",
     "text": [
      "article_id                                                  316\n",
      "title         Hertz (HTZ) Approves Spin of Equipment Rental ...\n",
      "url           http://www.streetinsider.com/Hot+Corp.+News/He...\n",
      "publisher                    StreetInsider.com \\(subscription\\)\n",
      "hostname                                  www.streetinsider.com\n",
      "timestamp                                               1.4e+12\n",
      "category                                                      2\n",
      "raw             [hertz, htz, approves, equipment, rental, unit]\n",
      "norm            [hertz, htz, approves, equipment, rental, unit]\n",
      "lemma           [hertz, htz, approves, equipment, rental, unit]\n",
      "Name: 315, dtype: object\n",
      "(4822, 10) (1205, 10)\n",
      "article_id                                                 3885\n",
      "title         Midday Market Stats: The Boeing Company Pressu...\n",
      "url           http://www.schaeffersresearch.com/commentary/c...\n",
      "publisher                          Schaeffers Research \\(blog\\)\n",
      "hostname                             www.schaeffersresearch.com\n",
      "timestamp                                              1.39e+12\n",
      "category                                                      0\n",
      "raw           [midday, market, boeing, company, pressures, d...\n",
      "norm          [midday, market, boeing, company, pressures, d...\n",
      "lemma         [midday, market, boeing, company, pressure, do...\n",
      "Name: 3884, dtype: object\n"
     ]
    }
   ],
   "source": [
    "from sklearn.utils import shuffle\n",
    "train_dataframe = shuffle(train_dataframe)\n",
    "print(train_dataframe.iloc[0])\n",
    "v_df = train_dataframe.iloc[:int(train_dataframe.shape[0] / 5.0), :]\n",
    "pt_df = train_dataframe.iloc[int(train_dataframe.shape[0] / 5.0):, :]\n",
    "print(pt_df.shape, v_df.shape)\n",
    "\n",
    "print(pt_df.iloc[0])\n",
    "\n",
    "pt_y = pt_df['category'].values\n",
    "v_y = v_df['category'].values\n",
    "#print(pt_y[: 10])\n",
    "\n",
    "t_X = train_dataframe\n",
    "t_y = t_X['category'].values"
   ]
  },
  {
   "cell_type": "code",
   "execution_count": 4,
   "metadata": {},
   "outputs": [
    {
     "name": "stdout",
     "output_type": "stream",
     "text": [
      "done\n",
      "done\n",
      "(1205, 56612)\n",
      "(6027, 56612)\n"
     ]
    }
   ],
   "source": [
    "vectorizer = CountVectorizer(stop_words='english', ngram_range=(1, 5))\n",
    "pt_X = vectorizer.fit_transform(pt_df['title'].values)\n",
    "print('done')\n",
    "v_X = vectorizer.transform(v_df['title'].values)\n",
    "print('done')\n",
    "pt_X.toarray()\n",
    "v_X.toarray()\n",
    "print(v_X.shape)\n",
    "\n",
    "t_X = vectorizer.transform(t_X['title'].values)\n",
    "print(t_X.shape)"
   ]
  },
  {
   "cell_type": "code",
   "execution_count": 6,
   "metadata": {},
   "outputs": [
    {
     "name": "stdout",
     "output_type": "stream",
     "text": [
      "0.6006083890609438\n"
     ]
    }
   ],
   "source": [
    "# cross validation\n",
    "\n",
    "from sklearn.model_selection import cross_val_score\n",
    "\n",
    "clf = MultinomialNB()\n",
    "scores = cross_val_score(clf, t_X, t_y, cv=5, scoring='f1_micro')\n",
    "print(np.mean(scores))"
   ]
  },
  {
   "cell_type": "code",
   "execution_count": 8,
   "metadata": {},
   "outputs": [
    {
     "name": "stdout",
     "output_type": "stream",
     "text": [
      "(4822, 56612) (4822,)\n",
      "(1205, 56612) (1205,)\n",
      "(1205,)\n",
      "f2 score is:0.5818626828294929\n"
     ]
    },
    {
     "name": "stderr",
     "output_type": "stream",
     "text": [
      "/diskA/yisong/anaconda3/lib/python3.6/site-packages/matplotlib/axes/_axes.py:6462: UserWarning: The 'normed' kwarg is deprecated, and has been replaced by the 'density' kwarg.\n",
      "  warnings.warn(\"The 'normed' kwarg is deprecated, and has been \"\n"
     ]
    },
    {
     "data": {
      "image/png": "[encoded data removed]",
      "text/plain": [
       "<Figure size 432x288 with 1 Axes>"
      ]
     },
     "metadata": {},
     "output_type": "display_data"
    },
    {
     "data": {
      "image/png": "[encoded data removed]",
      "text/plain": [
       "<Figure size 432x288 with 1 Axes>"
      ]
     },
     "metadata": {},
     "output_type": "display_data"
    }
   ],
   "source": [
    "from sklearn.metrics import fbeta_score\n",
    "\n",
    "print(pt_X.shape, pt_y.shape)\n",
    "print(v_X.shape, v_y.shape)\n",
    "\n",
    "\n",
    "clf = MultinomialNB()\n",
    "clf.fit(pt_X, pt_y)\n",
    "\n",
    "result = clf.predict(v_X)\n",
    "print(result.shape)\n",
    "\n",
    "print('f2 score is:{}'.format(fbeta_score(v_y, result, average='macro', beta=2)))\n",
    "\n",
    "import matplotlib.pyplot as plt\n",
    "import numpy as np\n",
    "%matplotlib inline\n",
    "\n",
    "plt.hist(result, normed=True, bins=5)\n",
    "plt.ylabel('predict')\n",
    "plt.show()\n",
    "\n",
    "plt.hist(pt_y, normed=True, bins=5)\n",
    "plt.ylabel('real')\n",
    "plt.show()"
   ]
  },
  {
   "cell_type": "code",
   "execution_count": 9,
   "metadata": {},
   "outputs": [
    {
     "name": "stderr",
     "output_type": "stream",
     "text": [
      "/diskA/yisong/anaconda3/lib/python3.6/site-packages/matplotlib/axes/_axes.py:6462: UserWarning: The 'normed' kwarg is deprecated, and has been replaced by the 'density' kwarg.\n",
      "  warnings.warn(\"The 'normed' kwarg is deprecated, and has been \"\n"
     ]
    },
    {
     "data": {
      "image/png": "[encoded data removed]",
      "text/plain": [
       "<Figure size 432x288 with 1 Axes>"
      ]
     },
     "metadata": {},
     "output_type": "display_data"
    }
   ],
   "source": [
    "test_X = vectorizer.transform(test_dataframe['title'].values)\n",
    "test_X.toarray()\n",
    "result = clf.predict(test_X)\n",
    "\n",
    "write_file = open('result-11-04-v4.txt', 'w+')\n",
    "write_file.write('article_id,category\\n')\n",
    "i = 1\n",
    "for item in result:\n",
    "    write_file.write('{},{}\\n'.format(i, item))\n",
    "    i += 1\n",
    "write_file.close()\n",
    "\n",
    "plt.hist(result, normed=True, bins=5)\n",
    "plt.ylabel('Probability')\n",
    "plt.show()"
   ]
  },
  {
   "cell_type": "code",
   "execution_count": null,
   "metadata": {},
   "outputs": [],
   "source": []
  },
  {
   "cell_type": "code",
   "execution_count": null,
   "metadata": {},
   "outputs": [],
   "source": []
  }
 ],
 "metadata": {
  "kernelspec": {
   "display_name": "Python 3",
   "language": "python",
   "name": "python3"
  },
  "language_info": {
   "codemirror_mode": {
    "name": "ipython",
    "version": 3
   },
   "file_extension": ".py",
   "mimetype": "text/x-python",
   "name": "python",
   "nbconvert_exporter": "python",
   "pygments_lexer": "ipython3",
   "version": "3.6.5"
  }
 },
 "nbformat": 4,
 "nbformat_minor": 2
}
