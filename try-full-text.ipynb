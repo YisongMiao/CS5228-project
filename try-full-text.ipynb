{
 "cells": [
  {
   "cell_type": "code",
   "execution_count": 28,
   "metadata": {},
   "outputs": [],
   "source": [
    "from collections import Counter\n",
    "\n",
    "import pandas as pd\n",
    "import regex as re\n",
    "import numpy as np\n",
    "from itertools import chain\n",
    "from sklearn.naive_bayes import MultinomialNB\n",
    "from sklearn.feature_extraction.text import CountVectorizer, TfidfTransformer\n",
    "from sklearn.model_selection import train_test_split\n",
    "from sklearn.model_selection import GridSearchCV\n",
    "from sklearn.pipeline import Pipeline\n",
    "from sklearn.linear_model import SGDClassifier, LogisticRegression\n",
    "from sklearn.model_selection import cross_val_score\n",
    "import pickle\n",
    "from sklearn.metrics import fbeta_score"
   ]
  },
  {
   "cell_type": "code",
   "execution_count": 29,
   "metadata": {},
   "outputs": [
    {
     "name": "stdout",
     "output_type": "stream",
     "text": [
      "train_df size: (6027, 7), test_df size: (3826, 6)\n"
     ]
    }
   ],
   "source": [
    "train_df = pd.read_csv('data/train_v2.csv')\n",
    "test_df = pd.read_csv('data/test_v2.csv')\n",
    "\n",
    "print('train_df size: {}, test_df size: {}'.format(train_df.shape, test_df.shape))"
   ]
  },
  {
   "cell_type": "code",
   "execution_count": 30,
   "metadata": {},
   "outputs": [
    {
     "name": "stdout",
     "output_type": "stream",
     "text": [
      "done\n",
      "done\n",
      "done\n",
      "done\n",
      "done\n"
     ]
    }
   ],
   "source": [
    "# In this part, we find most frequent unigram\n",
    "data = train_df[(train_df.category == 2)]['title']\n",
    "#df = train_df[(train_df.category > 1) & (train_df.category != 3)]\n",
    "\n",
    "cv = CountVectorizer()\n",
    "data = cv.fit_transform(data)\n",
    "\n",
    "tfidf_transformer = TfidfTransformer()\n",
    "tfidf_matrix = tfidf_transformer.fit_transform(data)\n",
    "word2tfidf = dict(zip(cv.get_feature_names(), tfidf_transformer.idf_))\n",
    "sorted_word2 = sorted(word2tfidf.items(), key=lambda kv: kv[1], reverse=False)\n",
    "\n",
    "def find_frequent_unigram(cat):\n",
    "    data = train_df[(train_df.category == cat)]['title']\n",
    "    cv = CountVectorizer()\n",
    "    data = cv.fit_transform(data)\n",
    "    \n",
    "    tfidf_transformer = TfidfTransformer()\n",
    "    tfidf_matrix = tfidf_transformer.fit_transform(data)\n",
    "    word2tfidf = dict(zip(cv.get_feature_names(), tfidf_transformer.idf_))\n",
    "    sorted_word2 = sorted(word2tfidf.items(), key=lambda kv: kv[1], reverse=False)\n",
    "    fp = 'data/cat-{}-frequent.txt'.format(cat)\n",
    "    with open(fp, 'w+') as wf:\n",
    "        wf.write('word, idf\\n')\n",
    "        for item in sorted_word2:\n",
    "            wf.write('{}, {}\\n'.format(item[0], item[1]))\n",
    "    print('done')\n",
    "            \n",
    "\n",
    "find_frequent_unigram(0)\n",
    "find_frequent_unigram(1)\n",
    "find_frequent_unigram(2)\n",
    "find_frequent_unigram(3)\n",
    "find_frequent_unigram(4)\n",
    "\n",
    "\n",
    "# 有一些stopwords 不能去掉，例如 down"
   ]
  },
  {
   "cell_type": "code",
   "execution_count": 31,
   "metadata": {},
   "outputs": [
    {
     "name": "stdout",
     "output_type": "stream",
     "text": [
      "['to' 'in' 'for' 'on' 'us' 'of' 'video' 'china' 'the' 'billion'] ['to' 'in' 'of' 'for' 'on' 'the' 'us' 'china' 'missing' 'plane']\n",
      "cat-2: 2605, cat_4: 3828, intersection: 1731\n"
     ]
    }
   ],
   "source": [
    "cat_2_word = pd.read_csv('data/cat-2-frequent.txt')['word'].values\n",
    "cat_4_word = pd.read_csv('data/cat-4-frequent.txt')['word'].values\n",
    "print(cat_2_word[: 10], cat_4_word[: 10])\n",
    "intersection_2_4 = [item for item in cat_2_word if item in cat_4_word]\n",
    "residual_2_4 = [item for item in cat_2_word if item not in cat_4_word]\n",
    "print('cat-2: {}, cat_4: {}, intersection: {}'.format(len(cat_2_word), len(cat_4_word), len(intersection_2_4)))\n",
    "\n",
    "def calculate_intersection():\n",
    "    for i in range(4):\n",
    "        cat = pd.read_csv('data/cat-{}-frequent.txt'.format(i))['word'].values\n",
    "        cat_4 = pd.read_csv('data/cat-{}-frequent.txt'.format(4))['word'].values\n",
    "        intersection = [item for item in cat if item in cat_4]\n",
    "        print('cat{} unique word: {}, cat_4 unique word: {}, intersection word: {}, intersection percentage: {}'.format(i, len(cat), len(cat_4), len(intersection), len(intersection) / float(len(cat))))\n",
    "        \n",
    "#calculate_intersection()\n",
    "#print(intersection_2_4[: 200])\n",
    "#print('---')\n",
    "#print(residual_2_4[: 200])\n"
   ]
  },
  {
   "cell_type": "code",
   "execution_count": 32,
   "metadata": {},
   "outputs": [
    {
     "name": "stdout",
     "output_type": "stream",
     "text": [
      "318\n",
      "315\n"
     ]
    }
   ],
   "source": [
    "from sklearn.feature_extraction import stop_words\n",
    "print(len(stop_words.ENGLISH_STOP_WORDS))\n",
    "my_stop_word = ['forty', 'much', 'whereafter', 'towards', 'our', 'during', 'done', 'one', 'please', 'whom', 'whereas', 'hers', 'thick', 'him', 'never', 'upon', 'are', 'whose', 'ten', 'except', 'than', 'those', 'whereupon', 'already', 'across', 're', 'somewhere', 'became', 'fire', 'six', 'without', 'although', 'third', 'eleven', 'amoungst', 'becomes', 'below', 'all', 'any', 'nothing', 'almost', 'how', 'in', 'he', 'over', 'seem', 'about', 'see', 'around', 'often', 'few', 'therefore', 'what', 'yourselves', 'both', 'keep', 'ours', 'always', 'once', 'others', 'seeming', 'none', 'perhaps', 'its', 'whether', 'whoever', 'be', 'etc', 'call', 'indeed', 'latter', 'further', 'last', 'three', 'eg', 'interest', 'other', 'but', 'your', 'here', 'per', 'wherein', 'against', 'sometime', 'within', 'name', 'former', 'may', 'when', 'will', 'whither', 'cry', 'beforehand', 'themselves', 'to', 'whereby', 'from', 'can', 'put', 'ie', 'bottom', 'which', 'have', 'not', 'seemed', 'until', 'somehow', 'was', 'cant', 'nobody', 'several', 'side', 'thru', 'now', 'four', 'there', 'neither', 'some', 'enough', 'otherwise', 'yet', 'into', 'still', 'anyone', 'made', 'via', 'everyone', 'give', 'take', 'thereby', 'amongst', 'thereafter', 'becoming', 'elsewhere', 'noone', 'no', 'onto', 'am', 'because', 'find', 'meanwhile', 'my', 'it', 'since', 'this', 'toward', 'anywhere', 'very', 'ever', 'another', 'formerly', 'her', 'hereby', 'me', 'an', 'himself', 'such', 'hereafter', 'might', 'afterwards', 'mine', 'nine', 'the', 'five', 'therein', 'where', 'why', 'anything', 'someone', 'that', 'after', 'fifteen', 'everywhere', 'herself', 'sometimes', 'nevertheless', 'mostly', 'show', 'a', 'part', 'before', 'together', 'either', 'of', 'whatever', 'de', 'eight', 'own', 'beyond', 'detail', 'even', 'were', 'cannot', 'fill', 'moreover', 'under', 'if', 'con', 'them', 'empty', 'get', 'system', 'nor', 'his', 'front', 'describe', 'must', 'then', 'between', 'been', 'bill', 'you', 'had', 'well', 'ourselves', 'alone', 'twelve', 'too', 'each', 'else', 'hundred', 'among', 'also', 'only', 'whole', 'less', 'hasnt', 'being', 'off', 'first', 'these', 'could', 'ltd', 'back', 'nowhere', 'with', 'everything', 'co', 'seems', 'sincere', 'myself', 'beside', 'go', 'every', 'rather', 'two', 'on', 'move', 'i', 'hence', 'who', 'due', 'amount', 'full', 'again', 'hereupon', 'fifty', 'whence', 'un', 'besides', 'latterly', 'mill', 'same', 'through', 'would', 'serious', 'sixty', 'top', 'most', 'we', 'anyway', 'couldnt', 'while', 'yourself', 'thus', 'become', 'their', 'thereupon', 'more', 'namely', 'above', 'wherever', 'found', 'itself', 'thin', 'thence', 'has', 'is', 'yours', 'by', 'for', 'though', 'along', 'out', 'she', 'next', 'twenty', 'however', 'something', 'herein', 'inc', 'at', 'do', 'throughout', 'as', 'anyhow', 'and', 'they', 'whenever', 'least', 'behind', 'or', 'should', 'so', 'many']\n",
    "print(len(my_stop_word))"
   ]
  },
  {
   "cell_type": "code",
   "execution_count": 33,
   "metadata": {},
   "outputs": [
    {
     "name": "stdout",
     "output_type": "stream",
     "text": [
      "0\n"
     ]
    },
    {
     "name": "stderr",
     "output_type": "stream",
     "text": [
      "/diskA/yisong/anaconda3/lib/python3.6/site-packages/matplotlib/axes/_axes.py:6462: UserWarning: The 'normed' kwarg is deprecated, and has been replaced by the 'density' kwarg.\n",
      "  warnings.warn(\"The 'normed' kwarg is deprecated, and has been \"\n",
      "/diskA/yisong/anaconda3/lib/python3.6/site-packages/numpy/lib/histograms.py:823: RuntimeWarning: invalid value encountered in true_divide\n",
      "  return n/db/n.sum(), bin_edges\n"
     ]
    },
    {
     "data": {
      "image/png": "[encoded data removed]",
      "text/plain": [
       "<Figure size 432x288 with 1 Axes>"
      ]
     },
     "metadata": {},
     "output_type": "display_data"
    }
   ],
   "source": [
    "import matplotlib.pyplot as plt\n",
    "%matplotlib inline\n",
    "from nltk.stem.porter import *\n",
    "stemmer = PorterStemmer()\n",
    "\n",
    "#print(stemmer.stem('obamacare')) 得到 obamacar\n",
    "\n",
    "# 在这里，把 obamacar 当作 stopword!\n",
    "\n",
    "def get_new_stopwords():\n",
    "    manual_stopwords = ['obamacar', 'say', 'said', 'monday', 'tuesday',\n",
    "                       'wednesday', 'thursday', 'friday', 'saturday', 'sunday',\n",
    "                       'january', 'february', 'march', 'april', 'may', 'june',\n",
    "                       'july', 'april', 'may', 'june', 'july', 'august', 'september',\n",
    "                       'octerber', 'november', 'december']\n",
    "    words = [stemmer.stem(word) for word in manual_stopwords]\n",
    "    return words\n",
    "\n",
    "manual_stopwords = get_new_stopwords()\n",
    "\n",
    "def my_tokenizer(s):\n",
    "    words = re.findall(r'[A-Za-z]+', s)\n",
    "    words = [word.lower() for word in words]\n",
    "    words = [stemmer.stem(word) for word in words]\n",
    "    words = [word for word in words if (len(word) > 1 and word not in manual_stopwords)]\n",
    "    return words\n",
    "\n",
    "\n",
    "def show_tokenizer():\n",
    "    tag = []\n",
    "    for i in range(train_df.shape[0]):\n",
    "        #if i % 100 != 1:\n",
    "        #    continue\n",
    "        title = train_df.iloc[i]['title']\n",
    "        title_ = my_tokenizer(title)\n",
    "        #print('title: {}\\n{}'.format(train_df.iloc[i]['title'], title_))\n",
    "        if 'obamacar' in title_:\n",
    "            #print('tag: {}\\n{}'.format(train_df.iloc[i]['category'], title_))\n",
    "            tag.append(train_df.iloc[i]['category'])\n",
    "    print(len(tag))\n",
    "    plt.hist(tag, normed=True, bins=5)\n",
    "    plt.ylabel('Probability')\n",
    "    plt.show()\n",
    "\n",
    "\n",
    "show_tokenizer()"
   ]
  },
  {
   "cell_type": "code",
   "execution_count": 34,
   "metadata": {},
   "outputs": [],
   "source": [
    "def find_obamacare():\n",
    "    index = []\n",
    "    for i in range(test_df.shape[0]):\n",
    "        title = train_df.iloc[i]['title']\n",
    "        title_ = my_tokenizer(title)\n",
    "        if 'obamacar' in title_:\n",
    "            index.append(i)\n",
    "    return index\n",
    "\n",
    "\n",
    "obama_index = find_obamacare()"
   ]
  },
  {
   "cell_type": "code",
   "execution_count": 35,
   "metadata": {},
   "outputs": [
    {
     "name": "stdout",
     "output_type": "stream",
     "text": [
      "(6027,) (6027,)\n"
     ]
    },
    {
     "name": "stderr",
     "output_type": "stream",
     "text": [
      "/diskA/yisong/anaconda3/lib/python3.6/site-packages/sklearn/linear_model/stochastic_gradient.py:117: DeprecationWarning: n_iter parameter is deprecated in 0.19 and will be removed in 0.21. Use max_iter and tol instead.\n",
      "  DeprecationWarning)\n"
     ]
    },
    {
     "name": "stdout",
     "output_type": "stream",
     "text": [
      "fit done\n",
      "f1 score is:0.681592039800995\n"
     ]
    },
    {
     "name": "stderr",
     "output_type": "stream",
     "text": [
      "/diskA/yisong/anaconda3/lib/python3.6/site-packages/sklearn/linear_model/stochastic_gradient.py:117: DeprecationWarning: n_iter parameter is deprecated in 0.19 and will be removed in 0.21. Use max_iter and tol instead.\n",
      "  DeprecationWarning)\n",
      "/diskA/yisong/anaconda3/lib/python3.6/site-packages/sklearn/linear_model/stochastic_gradient.py:117: DeprecationWarning: n_iter parameter is deprecated in 0.19 and will be removed in 0.21. Use max_iter and tol instead.\n",
      "  DeprecationWarning)\n",
      "/diskA/yisong/anaconda3/lib/python3.6/site-packages/sklearn/linear_model/stochastic_gradient.py:117: DeprecationWarning: n_iter parameter is deprecated in 0.19 and will be removed in 0.21. Use max_iter and tol instead.\n",
      "  DeprecationWarning)\n",
      "/diskA/yisong/anaconda3/lib/python3.6/site-packages/sklearn/linear_model/stochastic_gradient.py:117: DeprecationWarning: n_iter parameter is deprecated in 0.19 and will be removed in 0.21. Use max_iter and tol instead.\n",
      "  DeprecationWarning)\n"
     ]
    },
    {
     "name": "stdout",
     "output_type": "stream",
     "text": [
      "[0.50413907 0.51409619 0.56716418 0.7358804  0.90024938] 0.6443058425839673\n"
     ]
    },
    {
     "name": "stderr",
     "output_type": "stream",
     "text": [
      "/diskA/yisong/anaconda3/lib/python3.6/site-packages/sklearn/linear_model/stochastic_gradient.py:117: DeprecationWarning: n_iter parameter is deprecated in 0.19 and will be removed in 0.21. Use max_iter and tol instead.\n",
      "  DeprecationWarning)\n"
     ]
    }
   ],
   "source": [
    "X = train_df['title']\n",
    "y = train_df['category']\n",
    "\n",
    "#X = train_df[((train_df.category == 2) | (train_df.category == 4))]['title']\n",
    "#y = train_df[((train_df.category == 2) | (train_df.category == 4))]['category']\n",
    "print(X.shape, y.shape)\n",
    "\n",
    "text_clf_svm = Pipeline([('vect', CountVectorizer(ngram_range=(1, 2), tokenizer=my_tokenizer, stop_words='english')),\n",
    "                      ('tfidf', TfidfTransformer(use_idf=True)),\n",
    "                      ('clf-svm', SGDClassifier(alpha=0.001, loss='hinge', penalty='l2', warm_start=True, n_iter=6, random_state=42)),])\n",
    "\n",
    "#('clf-lr', LogisticRegression(C=1, fit_intercept=True, penalty='l2', tol=0.01))\n",
    "#('clf-svm', SGDClassifier(alpha=0.001, loss='hinge', penalty='l2', warm_start=True, n_iter=6, random_state=42))\n",
    "X_train, X_test, y_train, y_test = train_test_split(X, y, test_size=0.20)\n",
    "\n",
    "text_clf_svm = text_clf_svm.fit(X_train.values.astype('U'), y_train.values)\n",
    "print('fit done')\n",
    "\n",
    "result = text_clf_svm.predict(X_test)\n",
    "print('f1 score is:{}'.format(fbeta_score(y_test, result, average='micro', beta=1)))\n",
    "\n",
    "scores = cross_val_score(text_clf_svm, X.values.astype('U'), y, cv=5, scoring='f1_micro')\n",
    "print(scores, np.mean(scores))"
   ]
  },
  {
   "cell_type": "code",
   "execution_count": 36,
   "metadata": {},
   "outputs": [
    {
     "name": "stdout",
     "output_type": "stream",
     "text": [
      "16151\n",
      "finished\n"
     ]
    }
   ],
   "source": [
    "train_raw = pickle.load(open('data/train_v2.pk', 'rb'))\n",
    "test_raw = pickle.load(open('data/test_v2.pk', 'rb'))\n",
    "\n",
    "train_feature = text_clf_svm.steps[0][1].get_feature_names()\n",
    "print(len(train_feature))\n",
    "\n",
    "custom_tokens = dict()\n",
    "\n",
    "for i in range(train_df.shape[0]):\n",
    "    #if i % 50 != 0:\n",
    "    #    continue\n",
    "    title_ = my_tokenizer(train_df.iloc[i]['title'])\n",
    "    if train_raw[i] is None or len(train_raw[i]) < 500:\n",
    "        custom_tokens[''.join(('train', str(i)))] = title_\n",
    "        continue\n",
    "    extend = my_tokenizer(train_raw[i])[: 100000]\n",
    "    custom_tokens[''.join(('train-', str(i)))] = title_ + extend\n",
    "\n",
    "for i in range(test_df.shape[0]):\n",
    "    #if i % 50 != 0:\n",
    "    #    continue\n",
    "    title_ = my_tokenizer(test_df.iloc[i]['title'])\n",
    "    if test_raw[i] is None or len(test_raw[i]) < 500:\n",
    "        custom_tokens[''.join(('test', str(i)))] = title_\n",
    "        continue\n",
    "    extend = my_tokenizer(test_raw[i])[: 100000]\n",
    "    #new_word = [word for word in extend if (word in train_feature and word not in title_)]\n",
    "    #new_word = list(set(new_word))\n",
    "    #print(i, len(new_word), new_word)\n",
    "    #print(title_)\n",
    "    custom_tokens[''.join(('test', str(i)))] = title_ + extend\n",
    "\n",
    "print('finished')\n"
   ]
  },
  {
   "cell_type": "code",
   "execution_count": 40,
   "metadata": {},
   "outputs": [
    {
     "name": "stdout",
     "output_type": "stream",
     "text": [
      "6027 3826\n"
     ]
    }
   ],
   "source": [
    "train_key = [k for k in custom_tokens.keys() if k[: 2] == 'tr']\n",
    "test_key = [k for k in custom_tokens.keys() if k[: 2] == 'te']\n",
    "print(len(train_key), len(test_key))"
   ]
  },
  {
   "cell_type": "code",
   "execution_count": 47,
   "metadata": {},
   "outputs": [
    {
     "name": "stdout",
     "output_type": "stream",
     "text": [
      "fit done\n"
     ]
    },
    {
     "name": "stderr",
     "output_type": "stream",
     "text": [
      "/diskA/yisong/anaconda3/lib/python3.6/site-packages/matplotlib/axes/_axes.py:6462: UserWarning: The 'normed' kwarg is deprecated, and has been replaced by the 'density' kwarg.\n",
      "  warnings.warn(\"The 'normed' kwarg is deprecated, and has been \"\n"
     ]
    },
    {
     "data": {
      "image/png": "[encoded data removed]",
      "text/plain": [
       "<Figure size 432x288 with 1 Axes>"
      ]
     },
     "metadata": {},
     "output_type": "display_data"
    }
   ],
   "source": [
    "import matplotlib.pyplot as plt\n",
    "%matplotlib inline\n",
    "# for submit\n",
    "X_test = test_df['title']\n",
    "\n",
    "text_clf_svm = Pipeline([('vect', CountVectorizer(ngram_range=(1, 2), tokenizer=lambda key: custom_tokens[key], stop_words=my_stop_word)),\n",
    "                      ('tfidf', TfidfTransformer(use_idf=True)),\n",
    "                      ('NB', MultinomialNB(alpha=0.1, fit_prior=True))])\n",
    "\n",
    "#('NB', MultinomialNB(alpha=0.1, fit_prior=True))\n",
    "#('clf-lr', LogisticRegression(C=1, fit_intercept=True, penalty='l2', tol=0.01))\n",
    "#('clf-svm', SGDClassifier(alpha=0.001, loss='hinge', penalty='l2', warm_start=True, n_iter=6, random_state=42))\n",
    "text_clf_svm = text_clf_svm.fit(train_key, y.values)\n",
    "print('fit done')\n",
    "\n",
    "result = text_clf_svm.predict(test_key)\n",
    "\n",
    "write_file = open('improvement-add-all-nb.txt', 'w+')\n",
    "write_file.write('article_id,category\\n')\n",
    "i = 1\n",
    "for item in result:\n",
    "    write_file.write('{},{}\\n'.format(i, item))\n",
    "    i += 1\n",
    "write_file.close()\n",
    "\n",
    "plt.hist(result, normed=True, bins=5)\n",
    "plt.ylabel('Probability')\n",
    "plt.show()\n"
   ]
  },
  {
   "cell_type": "code",
   "execution_count": 43,
   "metadata": {},
   "outputs": [
    {
     "name": "stdout",
     "output_type": "stream",
     "text": [
      "3\n"
     ]
    }
   ],
   "source": [
    "re0 = pd.read_csv('improvement-add-all.txt')['category'].values\n",
    "re1 = pd.read_csv('improvement-add-1000.txt')['category'].values\n",
    "\n",
    "difference = 0\n",
    "for i in range(0, len(re0)):\n",
    "    if re0[i] != re1[i]:\n",
    "        difference += 1\n",
    "print(difference)"
   ]
  },
  {
   "cell_type": "code",
   "execution_count": 62,
   "metadata": {},
   "outputs": [
    {
     "name": "stdout",
     "output_type": "stream",
     "text": [
      "total disagree: 400\n",
      "svm ≠ lr: 148, svm ≠ nb: 366, lr ≠ nb: 293\n",
      "nb and lr is same, overthrow smv: 107\n"
     ]
    }
   ],
   "source": [
    "re_all_nb = pd.read_csv('improvement-add-all-nb.txt')['category'].values\n",
    "re_all_lr = pd.read_csv('improvement-add-all-lr.txt')['category'].values\n",
    "re_all_svm = pd.read_csv('improvement-add-all-svm.txt')['category'].values\n",
    "\n",
    "#improvement-add-all-svm.txt 有0.87140\n",
    "\n",
    "c = 0\n",
    "for i in range(len(re_svm)):\n",
    "    if (re_all_lr[i] == re_all_svm[i] and re_all_nb[i] == re_all_svm[i]):\n",
    "        c += 1\n",
    "print('total disagree: {}'.format(len(re_all_nb) - c))\n",
    "\n",
    "svm_lr_dis = len([item for i, item in enumerate(re_all_svm) if item != re_all_lr[i]])\n",
    "svm_nb_dis = len([item for i, item in enumerate(re_all_svm) if item != re_all_nb[i]])\n",
    "lr_nb_dis = len([item for i, item in enumerate(re_all_lr) if item != re_all_nb[i]])\n",
    "print('svm ≠ lr: {}, svm ≠ nb: {}, lr ≠ nb: {}'.format(svm_lr_dis, svm_nb_dis, lr_nb_dis))\n",
    "\n",
    "nblr_vs_svm = len([item for i, item in enumerate(re_all_svm) if (item != re_all_lr[i] and item != re_all_nb[i])\n",
    "                  and (re_all_lr[i] == re_all_nb[i])])\n",
    "print('nb and lr is same, overthrow smv: {}'.format(nblr_vs_svm))"
   ]
  },
  {
   "cell_type": "code",
   "execution_count": null,
   "metadata": {},
   "outputs": [],
   "source": []
  }
 ],
 "metadata": {
  "kernelspec": {
   "display_name": "Python 3",
   "language": "python",
   "name": "python3"
  },
  "language_info": {
   "codemirror_mode": {
    "name": "ipython",
    "version": 3
   },
   "file_extension": ".py",
   "mimetype": "text/x-python",
   "name": "python",
   "nbconvert_exporter": "python",
   "pygments_lexer": "ipython3",
   "version": "3.6.5"
  }
 },
 "nbformat": 4,
 "nbformat_minor": 2
}
