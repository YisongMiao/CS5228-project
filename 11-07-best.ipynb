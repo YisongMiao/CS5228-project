{
 "cells": [
  {
   "cell_type": "code",
   "execution_count": 1,
   "metadata": {},
   "outputs": [],
   "source": [
    "from collections import Counter\n",
    "\n",
    "import pandas as pd\n",
    "import regex as re\n",
    "import numpy as np\n",
    "from itertools import chain\n",
    "from sklearn.naive_bayes import MultinomialNB\n",
    "from sklearn.feature_extraction.text import CountVectorizer, TfidfTransformer\n",
    "from sklearn.model_selection import train_test_split\n",
    "from sklearn.model_selection import GridSearchCV\n",
    "from sklearn.pipeline import Pipeline\n",
    "from sklearn.linear_model import SGDClassifier, LogisticRegression\n",
    "from sklearn.model_selection import cross_val_score\n",
    "import pickle\n",
    "from sklearn.metrics import fbeta_score"
   ]
  },
  {
   "cell_type": "code",
   "execution_count": 2,
   "metadata": {},
   "outputs": [
    {
     "name": "stdout",
     "output_type": "stream",
     "text": [
      "train_df size: (6027, 7), test_df size: (3826, 6)\n"
     ]
    }
   ],
   "source": [
    "train_df = pd.read_csv('data/train_v2.csv')\n",
    "test_df = pd.read_csv('data/test_v2.csv')\n",
    "\n",
    "print('train_df size: {}, test_df size: {}'.format(train_df.shape, test_df.shape))"
   ]
  },
  {
   "cell_type": "code",
   "execution_count": 3,
   "metadata": {},
   "outputs": [
    {
     "name": "stdout",
     "output_type": "stream",
     "text": [
      "done\n",
      "done\n",
      "done\n",
      "done\n",
      "done\n"
     ]
    }
   ],
   "source": [
    "# In this part, we find most frequent unigram\n",
    "data = train_df[(train_df.category == 2)]['title']\n",
    "#df = train_df[(train_df.category > 1) & (train_df.category != 3)]\n",
    "\n",
    "cv = CountVectorizer()\n",
    "data = cv.fit_transform(data)\n",
    "\n",
    "tfidf_transformer = TfidfTransformer()\n",
    "tfidf_matrix = tfidf_transformer.fit_transform(data)\n",
    "word2tfidf = dict(zip(cv.get_feature_names(), tfidf_transformer.idf_))\n",
    "sorted_word2 = sorted(word2tfidf.items(), key=lambda kv: kv[1], reverse=False)\n",
    "\n",
    "def find_frequent_unigram(cat):\n",
    "    data = train_df[(train_df.category == cat)]['title']\n",
    "    cv = CountVectorizer()\n",
    "    data = cv.fit_transform(data)\n",
    "    \n",
    "    tfidf_transformer = TfidfTransformer()\n",
    "    tfidf_matrix = tfidf_transformer.fit_transform(data)\n",
    "    word2tfidf = dict(zip(cv.get_feature_names(), tfidf_transformer.idf_))\n",
    "    sorted_word2 = sorted(word2tfidf.items(), key=lambda kv: kv[1], reverse=False)\n",
    "    fp = 'data/cat-{}-frequent.txt'.format(cat)\n",
    "    with open(fp, 'w+') as wf:\n",
    "        wf.write('word, idf\\n')\n",
    "        for item in sorted_word2:\n",
    "            wf.write('{}, {}\\n'.format(item[0], item[1]))\n",
    "    print('done')\n",
    "            \n",
    "\n",
    "find_frequent_unigram(0)\n",
    "find_frequent_unigram(1)\n",
    "find_frequent_unigram(2)\n",
    "find_frequent_unigram(3)\n",
    "find_frequent_unigram(4)\n",
    "\n",
    "\n",
    "# 有一些stopwords 不能去掉，例如 down"
   ]
  },
  {
   "cell_type": "code",
   "execution_count": 4,
   "metadata": {},
   "outputs": [
    {
     "name": "stdout",
     "output_type": "stream",
     "text": [
      "['to' 'in' 'for' 'on' 'us' 'of' 'video' 'china' 'the' 'billion'] ['to' 'in' 'of' 'for' 'on' 'the' 'us' 'china' 'missing' 'plane']\n",
      "cat-2: 2605, cat_4: 3828, intersection: 1731\n"
     ]
    }
   ],
   "source": [
    "cat_2_word = pd.read_csv('data/cat-2-frequent.txt')['word'].values\n",
    "cat_4_word = pd.read_csv('data/cat-4-frequent.txt')['word'].values\n",
    "print(cat_2_word[: 10], cat_4_word[: 10])\n",
    "intersection_2_4 = [item for item in cat_2_word if item in cat_4_word]\n",
    "residual_2_4 = [item for item in cat_2_word if item not in cat_4_word]\n",
    "print('cat-2: {}, cat_4: {}, intersection: {}'.format(len(cat_2_word), len(cat_4_word), len(intersection_2_4)))\n",
    "\n",
    "def calculate_intersection():\n",
    "    for i in range(4):\n",
    "        cat = pd.read_csv('data/cat-{}-frequent.txt'.format(i))['word'].values\n",
    "        cat_4 = pd.read_csv('data/cat-{}-frequent.txt'.format(4))['word'].values\n",
    "        intersection = [item for item in cat if item in cat_4]\n",
    "        print('cat{} unique word: {}, cat_4 unique word: {}, intersection word: {}, intersection percentage: {}'.format(i, len(cat), len(cat_4), len(intersection), len(intersection) / float(len(cat))))\n",
    "        \n",
    "#calculate_intersection()\n",
    "#print(intersection_2_4[: 200])\n",
    "#print('---')\n",
    "#print(residual_2_4[: 200])\n"
   ]
  },
  {
   "cell_type": "code",
   "execution_count": 15,
   "metadata": {},
   "outputs": [
    {
     "name": "stdout",
     "output_type": "stream",
     "text": [
      "0\n"
     ]
    },
    {
     "name": "stderr",
     "output_type": "stream",
     "text": [
      "/diskA/yisong/anaconda3/lib/python3.6/site-packages/matplotlib/axes/_axes.py:6462: UserWarning: The 'normed' kwarg is deprecated, and has been replaced by the 'density' kwarg.\n",
      "  warnings.warn(\"The 'normed' kwarg is deprecated, and has been \"\n",
      "/diskA/yisong/anaconda3/lib/python3.6/site-packages/numpy/lib/histograms.py:823: RuntimeWarning: invalid value encountered in true_divide\n",
      "  return n/db/n.sum(), bin_edges\n"
     ]
    },
    {
     "data": {
      "image/png": "[encoded data removed]",
      "text/plain": [
       "<Figure size 432x288 with 1 Axes>"
      ]
     },
     "metadata": {},
     "output_type": "display_data"
    }
   ],
   "source": [
    "import matplotlib.pyplot as plt\n",
    "%matplotlib inline\n",
    "from nltk.stem.porter import *\n",
    "stemmer = PorterStemmer()\n",
    "\n",
    "#print(stemmer.stem('obamacare')) 得到 obamacar\n",
    "\n",
    "# 在这里，把 obamacar 当作 stopword!\n",
    "manual_stopwords = ['obamacar']\n",
    "\n",
    "def my_tokenizer(s):\n",
    "    words = re.findall(r'[A-Za-z]+', s)\n",
    "    words = [word.lower() for word in words]\n",
    "    words = [stemmer.stem(word) for word in words]\n",
    "    words = [word for word in words if (len(word) > 1 and word not in manual_stopwords)]\n",
    "    return words\n",
    "\n",
    "\n",
    "def show_tokenizer():\n",
    "    tag = []\n",
    "    for i in range(train_df.shape[0]):\n",
    "        #if i % 100 != 1:\n",
    "        #    continue\n",
    "        title = train_df.iloc[i]['title']\n",
    "        title_ = my_tokenizer(title)\n",
    "        #print('title: {}\\n{}'.format(train_df.iloc[i]['title'], title_))\n",
    "        if 'obamacar' in title_:\n",
    "            #print('tag: {}\\n{}'.format(train_df.iloc[i]['category'], title_))\n",
    "            tag.append(train_df.iloc[i]['category'])\n",
    "    print(len(tag))\n",
    "    plt.hist(tag, normed=True, bins=5)\n",
    "    plt.ylabel('Probability')\n",
    "    plt.show()\n",
    "\n",
    "\n",
    "show_tokenizer()"
   ]
  },
  {
   "cell_type": "code",
   "execution_count": 16,
   "metadata": {},
   "outputs": [],
   "source": [
    "def find_obamacare():\n",
    "    index = []\n",
    "    for i in range(test_df.shape[0]):\n",
    "        title = train_df.iloc[i]['title']\n",
    "        title_ = my_tokenizer(title)\n",
    "        if 'obamacar' in title_:\n",
    "            index.append(i)\n",
    "    return index\n",
    "\n",
    "\n",
    "obama_index = find_obamacare()"
   ]
  },
  {
   "cell_type": "code",
   "execution_count": 17,
   "metadata": {},
   "outputs": [
    {
     "name": "stdout",
     "output_type": "stream",
     "text": [
      "(6027,) (6027,)\n"
     ]
    },
    {
     "name": "stderr",
     "output_type": "stream",
     "text": [
      "/diskA/yisong/anaconda3/lib/python3.6/site-packages/sklearn/linear_model/stochastic_gradient.py:117: DeprecationWarning: n_iter parameter is deprecated in 0.19 and will be removed in 0.21. Use max_iter and tol instead.\n",
      "  DeprecationWarning)\n"
     ]
    },
    {
     "name": "stdout",
     "output_type": "stream",
     "text": [
      "fit done\n",
      "f1 score is:0.6699834162520729\n"
     ]
    },
    {
     "name": "stderr",
     "output_type": "stream",
     "text": [
      "/diskA/yisong/anaconda3/lib/python3.6/site-packages/sklearn/linear_model/stochastic_gradient.py:117: DeprecationWarning: n_iter parameter is deprecated in 0.19 and will be removed in 0.21. Use max_iter and tol instead.\n",
      "  DeprecationWarning)\n",
      "/diskA/yisong/anaconda3/lib/python3.6/site-packages/sklearn/linear_model/stochastic_gradient.py:117: DeprecationWarning: n_iter parameter is deprecated in 0.19 and will be removed in 0.21. Use max_iter and tol instead.\n",
      "  DeprecationWarning)\n",
      "/diskA/yisong/anaconda3/lib/python3.6/site-packages/sklearn/linear_model/stochastic_gradient.py:117: DeprecationWarning: n_iter parameter is deprecated in 0.19 and will be removed in 0.21. Use max_iter and tol instead.\n",
      "  DeprecationWarning)\n",
      "/diskA/yisong/anaconda3/lib/python3.6/site-packages/sklearn/linear_model/stochastic_gradient.py:117: DeprecationWarning: n_iter parameter is deprecated in 0.19 and will be removed in 0.21. Use max_iter and tol instead.\n",
      "  DeprecationWarning)\n",
      "/diskA/yisong/anaconda3/lib/python3.6/site-packages/sklearn/linear_model/stochastic_gradient.py:117: DeprecationWarning: n_iter parameter is deprecated in 0.19 and will be removed in 0.21. Use max_iter and tol instead.\n",
      "  DeprecationWarning)\n"
     ]
    },
    {
     "name": "stdout",
     "output_type": "stream",
     "text": [
      "[0.50662252 0.513267   0.56799337 0.73504983 0.90024938] 0.6446364183688786\n"
     ]
    }
   ],
   "source": [
    "X = train_df['title']\n",
    "y = train_df['category']\n",
    "\n",
    "#X = train_df[((train_df.category == 2) | (train_df.category == 4))]['title']\n",
    "#y = train_df[((train_df.category == 2) | (train_df.category == 4))]['category']\n",
    "print(X.shape, y.shape)\n",
    "\n",
    "text_clf_svm = Pipeline([('vect', CountVectorizer(ngram_range=(1, 2), tokenizer=my_tokenizer, stop_words='english')),\n",
    "                      ('tfidf', TfidfTransformer(use_idf=True)),\n",
    "                      ('clf-svm', SGDClassifier(alpha=0.001, loss='hinge', penalty='l2', warm_start=True, n_iter=6, random_state=42)),])\n",
    "\n",
    "#('clf-lr', LogisticRegression(C=1, fit_intercept=True, penalty='l2', tol=0.01))\n",
    "#('clf-svm', SGDClassifier(alpha=0.001, loss='hinge', penalty='l2', warm_start=True, n_iter=6, random_state=42))\n",
    "X_train, X_test, y_train, y_test = train_test_split(X, y, test_size=0.20)\n",
    "\n",
    "text_clf_svm = text_clf_svm.fit(X_train.values.astype('U'), y_train.values)\n",
    "print('fit done')\n",
    "\n",
    "result = text_clf_svm.predict(X_test)\n",
    "print('f1 score is:{}'.format(fbeta_score(y_test, result, average='micro', beta=1)))\n",
    "\n",
    "scores = cross_val_score(text_clf_svm, X.values.astype('U'), y, cv=5, scoring='f1_micro')\n",
    "print(scores, np.mean(scores))"
   ]
  },
  {
   "cell_type": "code",
   "execution_count": 19,
   "metadata": {},
   "outputs": [
    {
     "name": "stderr",
     "output_type": "stream",
     "text": [
      "/diskA/yisong/anaconda3/lib/python3.6/site-packages/sklearn/linear_model/stochastic_gradient.py:117: DeprecationWarning: n_iter parameter is deprecated in 0.19 and will be removed in 0.21. Use max_iter and tol instead.\n",
      "  DeprecationWarning)\n"
     ]
    },
    {
     "name": "stdout",
     "output_type": "stream",
     "text": [
      "fit done\n"
     ]
    },
    {
     "name": "stderr",
     "output_type": "stream",
     "text": [
      "/diskA/yisong/anaconda3/lib/python3.6/site-packages/matplotlib/axes/_axes.py:6462: UserWarning: The 'normed' kwarg is deprecated, and has been replaced by the 'density' kwarg.\n",
      "  warnings.warn(\"The 'normed' kwarg is deprecated, and has been \"\n"
     ]
    },
    {
     "data": {
      "image/png": "[encoded data removed]",
      "text/plain": [
       "<Figure size 432x288 with 1 Axes>"
      ]
     },
     "metadata": {},
     "output_type": "display_data"
    },
    {
     "name": "stdout",
     "output_type": "stream",
     "text": [
      "[]\n"
     ]
    },
    {
     "name": "stderr",
     "output_type": "stream",
     "text": [
      "/diskA/yisong/anaconda3/lib/python3.6/site-packages/numpy/lib/histograms.py:823: RuntimeWarning: invalid value encountered in true_divide\n",
      "  return n/db/n.sum(), bin_edges\n"
     ]
    },
    {
     "data": {
      "image/png": "[encoded data removed]",
      "text/plain": [
       "<Figure size 432x288 with 1 Axes>"
      ]
     },
     "metadata": {},
     "output_type": "display_data"
    }
   ],
   "source": [
    "import matplotlib.pyplot as plt\n",
    "%matplotlib inline\n",
    "# for submit\n",
    "X_test = test_df['title']\n",
    "\n",
    "text_clf_svm = Pipeline([('vect', CountVectorizer(ngram_range=(1, 2), tokenizer=my_tokenizer, stop_words='english')),\n",
    "                      ('tfidf', TfidfTransformer(use_idf=True)),\n",
    "                      ('clf-svm', SGDClassifier(alpha=0.001, loss='hinge', penalty='l2', warm_start=True, n_iter=6, random_state=42))])\n",
    "\n",
    "#('NB', MultinomialNB(alpha=0.1, fit_prior=True))\n",
    "#('clf-lr', LogisticRegression(C=1, fit_intercept=True, penalty='l2', tol=0.01))\n",
    "#('clf-svm', SGDClassifier(alpha=0.001, loss='hinge', penalty='l2', warm_start=True, n_iter=6, random_state=42))\n",
    "text_clf_svm = text_clf_svm.fit(X.values.astype('U'), y.values)\n",
    "print('fit done')\n",
    "\n",
    "result = text_clf_svm.predict(X_test)\n",
    "\n",
    "write_file = open('improvement-v2.txt', 'w+')\n",
    "write_file.write('article_id,category\\n')\n",
    "i = 1\n",
    "for item in result:\n",
    "    write_file.write('{},{}\\n'.format(i, item))\n",
    "    i += 1\n",
    "write_file.close()\n",
    "\n",
    "plt.hist(result, normed=True, bins=5)\n",
    "plt.ylabel('Probability')\n",
    "plt.show()\n",
    "\n",
    "obama_result = []\n",
    "for index, item in enumerate(result):\n",
    "    if index in obama_index:\n",
    "        obama_result.append(item)\n",
    "\n",
    "print(obama_result)\n",
    "plt.hist(obama_result, normed=True, bins=5)\n",
    "plt.ylabel('Probability')\n",
    "plt.show()\n",
    "        "
   ]
  },
  {
   "cell_type": "code",
   "execution_count": null,
   "metadata": {},
   "outputs": [],
   "source": []
  }
 ],
 "metadata": {
  "kernelspec": {
   "display_name": "Python 3",
   "language": "python",
   "name": "python3"
  },
  "language_info": {
   "codemirror_mode": {
    "name": "ipython",
    "version": 3
   },
   "file_extension": ".py",
   "mimetype": "text/x-python",
   "name": "python",
   "nbconvert_exporter": "python",
   "pygments_lexer": "ipython3",
   "version": "3.6.5"
  }
 },
 "nbformat": 4,
 "nbformat_minor": 2
}
